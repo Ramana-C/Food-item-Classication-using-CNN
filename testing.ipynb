{
 "cells": [
  {
   "cell_type": "code",
   "execution_count": 1,
   "metadata": {},
   "outputs": [
    {
     "name": "stdout",
     "output_type": "stream",
     "text": [
      "Found 1100 images belonging to 11 classes.\n"
     ]
    }
   ],
   "source": [
    "import numpy as np\n",
    "from tensorflow.keras.preprocessing import image\n",
    "from tensorflow.keras.preprocessing.image import ImageDataGenerator\n",
    "from tensorflow.keras.models import load_model\n",
    "\n",
    "test_dir = r\"Food\\test\"\n",
    "\n",
    "test_datagen = ImageDataGenerator(rescale=1./255)\n",
    "\n",
    "test_ds = test_datagen.flow_from_directory(\n",
    "    test_dir,  # Replace with your path\n",
    "    target_size=(300,300),\n",
    "    batch_size=32,\n",
    "    class_mode='sparse'\n",
    ")\n",
    "\n"
   ]
  },
  {
   "cell_type": "code",
   "execution_count": 2,
   "metadata": {},
   "outputs": [
    {
     "name": "stderr",
     "output_type": "stream",
     "text": [
      "WARNING:absl:Compiled the loaded model, but the compiled metrics have yet to be built. `model.compile_metrics` will be empty until you train or evaluate the model.\n"
     ]
    },
    {
     "name": "stdout",
     "output_type": "stream",
     "text": [
      "\u001b[1m1/1\u001b[0m \u001b[32m━━━━━━━━━━━━━━━━━━━━\u001b[0m\u001b[37m\u001b[0m \u001b[1m0s\u001b[0m 371ms/step\n",
      "Predicted class name: Hamburger\n"
     ]
    }
   ],
   "source": [
    "\n",
    "# Function to preprocess the image\n",
    "def preprocess_image(img_path, target_size=(300,300)):\n",
    "    img = image.load_img(img_path, target_size=target_size)\n",
    "    img_array = image.img_to_array(img)\n",
    "    img_array = np.expand_dims(img_array, axis=0)\n",
    "    img_array = img_array / 255.0\n",
    "    return img_array\n",
    "\n",
    "# Load the model\n",
    "model = load_model('Final.h5')\n",
    "\n",
    "# Path to the unseen image\n",
    "img_path = r'Checking\\burger.jpeg'\n",
    "\n",
    "# Preprocess the image\n",
    "img_array = preprocess_image(img_path, target_size=(300, 300))\n",
    "\n",
    "# Predict the class of the image\n",
    "predictions = model.predict(img_array)\n",
    "predicted_class = np.argmax(predictions, axis=1)\n",
    "\n",
    "# Optionally, if you have a list of class labels, you can print the class name\n",
    "class_labels = ['Apple Pie', 'Cheesecake', 'Chicken Curry', 'French Fries', 'Fried Rice', 'Hamburger', 'Hot Dog', 'Ice Cream', 'Omelette', 'Pizza', 'Sushi']\n",
    "print(f'Predicted class name: {class_labels[predicted_class[0]]}')\n"
   ]
  }
 ],
 "metadata": {
  "kernelspec": {
   "display_name": "Python 3",
   "language": "python",
   "name": "python3"
  },
  "language_info": {
   "codemirror_mode": {
    "name": "ipython",
    "version": 3
   },
   "file_extension": ".py",
   "mimetype": "text/x-python",
   "name": "python",
   "nbconvert_exporter": "python",
   "pygments_lexer": "ipython3",
   "version": "3.12.4"
  }
 },
 "nbformat": 4,
 "nbformat_minor": 2
}
